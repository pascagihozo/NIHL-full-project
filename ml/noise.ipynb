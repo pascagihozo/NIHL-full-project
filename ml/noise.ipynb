{
  "cells": [
    {
      "cell_type": "markdown",
      "source": [
        "Imports"
      ],
      "metadata": {
        "id": "QlzvXYy7pXLJ"
      }
    },
    {
      "cell_type": "code",
      "source": [
        "import pandas as pd\n",
        "import numpy as np\n",
        "import datetime\n",
        "\n",
        "# Define the number of samples for training and testing datasets\n",
        "n_train = 10000\n",
        "n_test = 2000\n",
        "\n",
        "# Define additional fields\n",
        "location_types = ['Indoor', 'Outdoor']\n",
        "genders = ['Male', 'Female', 'Other']\n",
        "hearing_sensitivity = ['Normal', 'Mild', 'Moderate', 'Severe']\n",
        "health_issues = ['Healthy', 'Diabetes', 'Hypertension', 'Heart Disease', 'Other']\n",
        "environments = ['Residential', 'Workplace', 'Recreational', 'Traffic', 'Industrial']\n",
        "\n",
        "# Generate random data\n",
        "np.random.seed(42)  # For reproducibility\n",
        "\n",
        "def generate_data(num_samples):\n",
        "    timestamps = [datetime.datetime.now() - datetime.timedelta(minutes=15*i) for i in range(num_samples)]\n",
        "    user_ids = np.random.randint(1000, 9999, num_samples)\n",
        "    noise_levels = np.random.uniform(0, 100, num_samples)  # Mean = 65dB, Std = 10dB\n",
        "    durations = np.random.normal(60, 20, num_samples)  # Mean = 60 minutes, Std = 20 minutes\n",
        "    ages = np.random.randint(18, 65, num_samples)\n",
        "    data = {\n",
        "        'Timestamp': [ts.strftime('%Y-%m-%d %H:%M:%S') for ts in timestamps],\n",
        "        'User_ID': user_ids,\n",
        "        'Location_Type': np.random.choice(location_types, num_samples),\n",
        "        'Environment': np.random.choice(environments, num_samples),\n",
        "        'Noise_Level_dB': noise_levels,\n",
        "        'Duration_Minutes': durations,\n",
        "        'Age': ages,\n",
        "        'Gender': np.random.choice(genders, num_samples),\n",
        "        'Hearing_Protection_Used': np.random.choice(['Yes', 'No'], num_samples),\n",
        "        'Hearing_Sensitivity': np.random.choice(hearing_sensitivity, num_samples),\n",
        "        'Health_Issues': np.random.choice(health_issues, num_samples)\n",
        "    }\n",
        "    # Simulate hearing damage risk\n",
        "    data['Hearing_Damage_Risk'] = (data['Noise_Level_dB'] > 95) | (data['Duration_Minutes'] > 480)  # 8 hours threshold\n",
        "    data['Hearing_Damage_Risk'] = data['Hearing_Damage_Risk'].astype(int)  # Convert to binary\n",
        "    return pd.DataFrame(data)\n",
        "\n",
        "# Generate training and testing datasets\n",
        "train_data = generate_data(n_train)\n",
        "test_data = generate_data(n_test)\n",
        "\n",
        "# Save to CSV files\n",
        "train_data.to_csv(\"train.csv\", index=False)\n",
        "test_data.to_csv(\"test.csv\", index=False)\n",
        "\n",
        "print(\"Data generation complete. Files saved as 'simulated_train_data_extended.csv' and 'simulated_test_data_extended.csv'.\")\n"
      ],
      "metadata": {
        "colab": {
          "base_uri": "https://localhost:8080/"
        },
        "id": "zQtyp2AfSmHl",
        "outputId": "087ed8b4-104d-4b16-f3e4-902c67f69bbb"
      },
      "execution_count": null,
      "outputs": [
        {
          "output_type": "stream",
          "name": "stdout",
          "text": [
            "Data generation complete. Files saved as 'simulated_train_data_extended.csv' and 'simulated_test_data_extended.csv'.\n"
          ]
        }
      ]
    },
    {
      "cell_type": "code",
      "source": [
        "!pip install joblib"
      ],
      "metadata": {
        "colab": {
          "base_uri": "https://localhost:8080/"
        },
        "id": "DVFwDDgRpiEj",
        "outputId": "c87d02f5-11ad-4234-897f-df0aac1a105f"
      },
      "execution_count": null,
      "outputs": [
        {
          "output_type": "stream",
          "name": "stdout",
          "text": [
            "Requirement already satisfied: joblib in /usr/local/lib/python3.10/dist-packages (1.4.2)\n"
          ]
        }
      ]
    },
    {
      "cell_type": "code",
      "source": [
        "import pandas as pd\n",
        "from sklearn.model_selection import train_test_split\n",
        "from sklearn.preprocessing import StandardScaler, OneHotEncoder\n",
        "from sklearn.compose import ColumnTransformer\n",
        "from sklearn.pipeline import Pipeline\n",
        "import tensorflow as tf\n",
        "from tensorflow.keras.models import Sequential\n",
        "from tensorflow.keras.layers import Dense, Dropout\n",
        "\n",
        "# Load the dataset\n",
        "train = pd.read_csv('train.csv')\n",
        "test = pd.read_csv('test.csv')\n",
        "\n",
        "# Drop unnecessary columns\n",
        "train = train.drop(['Timestamp', 'User_ID'], axis=1)\n",
        "test = test.drop(['Timestamp', 'User_ID'], axis=1)\n",
        "\n",
        "data = pd.concat([train, test])\n",
        "\n",
        "\n",
        "# Handle missing values (if any)\n",
        "data = data.dropna()\n",
        "\n",
        "# Define categorical and numerical columns\n",
        "categorical_columns = ['Location_Type', 'Environment', 'Gender', 'Hearing_Protection_Used', 'Hearing_Sensitivity', 'Health_Issues']\n",
        "numerical_columns = ['Noise_Level_dB', 'Duration_Minutes', 'Age']\n",
        "\n",
        "# One-hot encode categorical variables and scale numerical features\n",
        "preprocessor = ColumnTransformer(\n",
        "    transformers=[\n",
        "        ('num', StandardScaler(), numerical_columns),\n",
        "        ('cat', OneHotEncoder(), categorical_columns)\n",
        "    ])\n",
        "\n",
        "# Split data into features and target\n",
        "X = data.drop('Hearing_Damage_Risk', axis=1)\n",
        "y = data['Hearing_Damage_Risk']\n",
        "\n",
        "# Split into training and testing sets\n",
        "X_train, X_test, y_train, y_test = train_test_split(X, y, test_size=0.2, random_state=42)\n",
        "\n",
        "# Apply preprocessing\n",
        "X_train = preprocessor.fit_transform(X_train)\n",
        "X_test = preprocessor.transform(X_test)\n",
        "\n",
        "# Convert sparse matrices to dense arrays\n",
        "# X_train = X_train.toarray()\n",
        "# X_test = X_test.toarray()\n",
        "\n",
        "# Define the model\n",
        "model = Sequential([\n",
        "    Dense(64, activation='relu', input_shape=(X_train.shape[1],)),\n",
        "    Dropout(0.5),\n",
        "    Dense(32, activation='relu'),\n",
        "    Dense(1, activation='sigmoid')\n",
        "])\n",
        "\n",
        "# Compile the model\n",
        "model.compile(optimizer='adam', loss='binary_crossentropy', metrics=['accuracy'])\n",
        "\n",
        "# Train the model\n",
        "model.fit(X_train, y_train, epochs=50, batch_size=32, validation_data=(X_test, y_test))\n",
        "\n",
        "# Evaluate the model (optional)\n",
        "loss, accuracy = model.evaluate(X_test, y_test)\n",
        "print(f'Accuracy: {accuracy}')\n"
      ],
      "metadata": {
        "id": "68PMJvQBYuUD",
        "colab": {
          "base_uri": "https://localhost:8080/"
        },
        "outputId": "9e7addcb-caa4-47e3-f343-3eea632a4439"
      },
      "execution_count": null,
      "outputs": [
        {
          "output_type": "stream",
          "name": "stdout",
          "text": [
            "Epoch 1/50\n",
            "300/300 [==============================] - 3s 6ms/step - loss: 0.1633 - accuracy: 0.9482 - val_loss: 0.1020 - val_accuracy: 0.9488\n",
            "Epoch 2/50\n",
            "300/300 [==============================] - 1s 4ms/step - loss: 0.1063 - accuracy: 0.9511 - val_loss: 0.0776 - val_accuracy: 0.9642\n",
            "Epoch 3/50\n",
            "300/300 [==============================] - 1s 3ms/step - loss: 0.0903 - accuracy: 0.9576 - val_loss: 0.0648 - val_accuracy: 0.9762\n",
            "Epoch 4/50\n",
            "300/300 [==============================] - 1s 3ms/step - loss: 0.0748 - accuracy: 0.9639 - val_loss: 0.0526 - val_accuracy: 0.9846\n",
            "Epoch 5/50\n",
            "300/300 [==============================] - 1s 3ms/step - loss: 0.0637 - accuracy: 0.9702 - val_loss: 0.0452 - val_accuracy: 0.9867\n",
            "Epoch 6/50\n",
            "300/300 [==============================] - 1s 3ms/step - loss: 0.0539 - accuracy: 0.9756 - val_loss: 0.0403 - val_accuracy: 0.9842\n",
            "Epoch 7/50\n",
            "300/300 [==============================] - 1s 3ms/step - loss: 0.0476 - accuracy: 0.9793 - val_loss: 0.0337 - val_accuracy: 0.9896\n",
            "Epoch 8/50\n",
            "300/300 [==============================] - 1s 3ms/step - loss: 0.0432 - accuracy: 0.9804 - val_loss: 0.0289 - val_accuracy: 0.9896\n",
            "Epoch 9/50\n",
            "300/300 [==============================] - 1s 3ms/step - loss: 0.0359 - accuracy: 0.9857 - val_loss: 0.0228 - val_accuracy: 0.9954\n",
            "Epoch 10/50\n",
            "300/300 [==============================] - 1s 3ms/step - loss: 0.0334 - accuracy: 0.9864 - val_loss: 0.0227 - val_accuracy: 0.9946\n",
            "Epoch 11/50\n",
            "300/300 [==============================] - 1s 3ms/step - loss: 0.0307 - accuracy: 0.9866 - val_loss: 0.0228 - val_accuracy: 0.9896\n",
            "Epoch 12/50\n",
            "300/300 [==============================] - 1s 3ms/step - loss: 0.0315 - accuracy: 0.9860 - val_loss: 0.0383 - val_accuracy: 0.9800\n",
            "Epoch 13/50\n",
            "300/300 [==============================] - 1s 3ms/step - loss: 0.0258 - accuracy: 0.9902 - val_loss: 0.0161 - val_accuracy: 0.9962\n",
            "Epoch 14/50\n",
            "300/300 [==============================] - 1s 4ms/step - loss: 0.0265 - accuracy: 0.9889 - val_loss: 0.0162 - val_accuracy: 0.9942\n",
            "Epoch 15/50\n",
            "300/300 [==============================] - 1s 5ms/step - loss: 0.0226 - accuracy: 0.9903 - val_loss: 0.0182 - val_accuracy: 0.9937\n",
            "Epoch 16/50\n",
            "300/300 [==============================] - 1s 4ms/step - loss: 0.0242 - accuracy: 0.9897 - val_loss: 0.0178 - val_accuracy: 0.9933\n",
            "Epoch 17/50\n",
            "300/300 [==============================] - 1s 3ms/step - loss: 0.0227 - accuracy: 0.9912 - val_loss: 0.0194 - val_accuracy: 0.9912\n",
            "Epoch 18/50\n",
            "300/300 [==============================] - 1s 3ms/step - loss: 0.0234 - accuracy: 0.9900 - val_loss: 0.0180 - val_accuracy: 0.9925\n",
            "Epoch 19/50\n",
            "300/300 [==============================] - 1s 3ms/step - loss: 0.0197 - accuracy: 0.9912 - val_loss: 0.0203 - val_accuracy: 0.9912\n",
            "Epoch 20/50\n",
            "300/300 [==============================] - 1s 3ms/step - loss: 0.0214 - accuracy: 0.9908 - val_loss: 0.0136 - val_accuracy: 0.9942\n",
            "Epoch 21/50\n",
            "300/300 [==============================] - 1s 3ms/step - loss: 0.0232 - accuracy: 0.9908 - val_loss: 0.0158 - val_accuracy: 0.9933\n",
            "Epoch 22/50\n",
            "300/300 [==============================] - 1s 3ms/step - loss: 0.0200 - accuracy: 0.9921 - val_loss: 0.0149 - val_accuracy: 0.9946\n",
            "Epoch 23/50\n",
            "300/300 [==============================] - 1s 3ms/step - loss: 0.0172 - accuracy: 0.9933 - val_loss: 0.0179 - val_accuracy: 0.9921\n",
            "Epoch 24/50\n",
            "300/300 [==============================] - 1s 3ms/step - loss: 0.0182 - accuracy: 0.9922 - val_loss: 0.0252 - val_accuracy: 0.9896\n",
            "Epoch 25/50\n",
            "300/300 [==============================] - 1s 3ms/step - loss: 0.0201 - accuracy: 0.9912 - val_loss: 0.0190 - val_accuracy: 0.9900\n",
            "Epoch 26/50\n",
            "300/300 [==============================] - 1s 3ms/step - loss: 0.0212 - accuracy: 0.9916 - val_loss: 0.0187 - val_accuracy: 0.9908\n",
            "Epoch 27/50\n",
            "300/300 [==============================] - 1s 3ms/step - loss: 0.0186 - accuracy: 0.9927 - val_loss: 0.0131 - val_accuracy: 0.9937\n",
            "Epoch 28/50\n",
            "300/300 [==============================] - 1s 5ms/step - loss: 0.0166 - accuracy: 0.9929 - val_loss: 0.0152 - val_accuracy: 0.9937\n",
            "Epoch 29/50\n",
            "300/300 [==============================] - 1s 5ms/step - loss: 0.0198 - accuracy: 0.9911 - val_loss: 0.0138 - val_accuracy: 0.9950\n",
            "Epoch 30/50\n",
            "300/300 [==============================] - 1s 3ms/step - loss: 0.0168 - accuracy: 0.9931 - val_loss: 0.0113 - val_accuracy: 0.9950\n",
            "Epoch 31/50\n",
            "300/300 [==============================] - 1s 3ms/step - loss: 0.0199 - accuracy: 0.9914 - val_loss: 0.0160 - val_accuracy: 0.9937\n",
            "Epoch 32/50\n",
            "300/300 [==============================] - 1s 3ms/step - loss: 0.0201 - accuracy: 0.9923 - val_loss: 0.0135 - val_accuracy: 0.9937\n",
            "Epoch 33/50\n",
            "300/300 [==============================] - 1s 3ms/step - loss: 0.0161 - accuracy: 0.9931 - val_loss: 0.0140 - val_accuracy: 0.9946\n",
            "Epoch 34/50\n",
            "300/300 [==============================] - 1s 3ms/step - loss: 0.0170 - accuracy: 0.9936 - val_loss: 0.0166 - val_accuracy: 0.9908\n",
            "Epoch 35/50\n",
            "300/300 [==============================] - 1s 3ms/step - loss: 0.0191 - accuracy: 0.9924 - val_loss: 0.0136 - val_accuracy: 0.9950\n",
            "Epoch 36/50\n",
            "300/300 [==============================] - 1s 3ms/step - loss: 0.0160 - accuracy: 0.9931 - val_loss: 0.0116 - val_accuracy: 0.9946\n",
            "Epoch 37/50\n",
            "300/300 [==============================] - 1s 3ms/step - loss: 0.0173 - accuracy: 0.9934 - val_loss: 0.0145 - val_accuracy: 0.9937\n",
            "Epoch 38/50\n",
            "300/300 [==============================] - 1s 3ms/step - loss: 0.0153 - accuracy: 0.9929 - val_loss: 0.0168 - val_accuracy: 0.9921\n",
            "Epoch 39/50\n",
            "300/300 [==============================] - 1s 3ms/step - loss: 0.0175 - accuracy: 0.9928 - val_loss: 0.0177 - val_accuracy: 0.9921\n",
            "Epoch 40/50\n",
            "300/300 [==============================] - 1s 3ms/step - loss: 0.0179 - accuracy: 0.9931 - val_loss: 0.0143 - val_accuracy: 0.9946\n",
            "Epoch 41/50\n",
            "300/300 [==============================] - 1s 4ms/step - loss: 0.0177 - accuracy: 0.9927 - val_loss: 0.0192 - val_accuracy: 0.9929\n",
            "Epoch 42/50\n",
            "300/300 [==============================] - 1s 5ms/step - loss: 0.0179 - accuracy: 0.9922 - val_loss: 0.0192 - val_accuracy: 0.9925\n",
            "Epoch 43/50\n",
            "300/300 [==============================] - 1s 4ms/step - loss: 0.0171 - accuracy: 0.9933 - val_loss: 0.0142 - val_accuracy: 0.9933\n",
            "Epoch 44/50\n",
            "300/300 [==============================] - 1s 3ms/step - loss: 0.0181 - accuracy: 0.9927 - val_loss: 0.0240 - val_accuracy: 0.9904\n",
            "Epoch 45/50\n",
            "300/300 [==============================] - 1s 3ms/step - loss: 0.0166 - accuracy: 0.9926 - val_loss: 0.0159 - val_accuracy: 0.9929\n",
            "Epoch 46/50\n",
            "300/300 [==============================] - 1s 3ms/step - loss: 0.0141 - accuracy: 0.9945 - val_loss: 0.0166 - val_accuracy: 0.9929\n",
            "Epoch 47/50\n",
            "300/300 [==============================] - 1s 3ms/step - loss: 0.0172 - accuracy: 0.9932 - val_loss: 0.0129 - val_accuracy: 0.9946\n",
            "Epoch 48/50\n",
            "300/300 [==============================] - 1s 3ms/step - loss: 0.0137 - accuracy: 0.9946 - val_loss: 0.0126 - val_accuracy: 0.9954\n",
            "Epoch 49/50\n",
            "300/300 [==============================] - 1s 3ms/step - loss: 0.0148 - accuracy: 0.9945 - val_loss: 0.0130 - val_accuracy: 0.9962\n",
            "Epoch 50/50\n",
            "300/300 [==============================] - 1s 3ms/step - loss: 0.0192 - accuracy: 0.9925 - val_loss: 0.0152 - val_accuracy: 0.9942\n",
            "75/75 [==============================] - 0s 2ms/step - loss: 0.0152 - accuracy: 0.9942\n",
            "Accuracy: 0.9941666722297668\n"
          ]
        }
      ]
    },
    {
      "cell_type": "code",
      "source": [],
      "metadata": {
        "id": "0s3cZnU8W7yJ"
      },
      "execution_count": null,
      "outputs": []
    },
    {
      "cell_type": "markdown",
      "source": [
        "# New Section"
      ],
      "metadata": {
        "id": "iuQuIlIqmhfs"
      }
    },
    {
      "cell_type": "code",
      "source": [
        "# Save the entire model to a HDF5 file\n",
        "model.save(\"my_model.h5\")\n"
      ],
      "metadata": {
        "colab": {
          "base_uri": "https://localhost:8080/"
        },
        "id": "Cil_qQe6ts0u",
        "outputId": "8449a0ec-1ec1-4b76-a695-4b76c79a80bb"
      },
      "execution_count": null,
      "outputs": [
        {
          "output_type": "stream",
          "name": "stderr",
          "text": [
            "/usr/local/lib/python3.10/dist-packages/keras/src/engine/training.py:3103: UserWarning: You are saving your model as an HDF5 file via `model.save()`. This file format is considered legacy. We recommend using instead the native Keras format, e.g. `model.save('my_model.keras')`.\n",
            "  saving_api.save_model(\n"
          ]
        }
      ]
    },
    {
      "cell_type": "code",
      "source": [
        "import joblib\n",
        "\n",
        "# Save the preprocessor\n",
        "joblib.dump(preprocessor, 'preprocessor.pkl')\n"
      ],
      "metadata": {
        "id": "fn3Z1IJMuFoh",
        "colab": {
          "base_uri": "https://localhost:8080/"
        },
        "outputId": "e3c74feb-168a-41d0-e9d8-e31db08bf809"
      },
      "execution_count": null,
      "outputs": [
        {
          "output_type": "execute_result",
          "data": {
            "text/plain": [
              "['preprocessor.pkl']"
            ]
          },
          "metadata": {},
          "execution_count": 37
        }
      ]
    },
    {
      "cell_type": "code",
      "source": [
        "import tensorflow as tf\n",
        "import pandas as pd\n",
        "import joblib\n",
        "\n",
        "# Load the saved model\n",
        "loaded_model = tf.keras.models.load_model(\"my_model.h5\")\n",
        "\n",
        "# Load the preprocessor\n",
        "loaded_preprocessor = joblib.load('preprocessor.pkl')\n",
        "\n",
        "sample_data = {\n",
        "    'Location_Type': 'Indoor',\n",
        "    'Environment': 'Traffic',\n",
        "    'Age': '30',\n",
        "    'Gender': 'Male',\n",
        "    'Hearing_Protection_Used': 'No',\n",
        "    'Hearing_Sensitivity': 'Severe',\n",
        "    'Health_Issues': 'Diabetes',\n",
        "    'Noise_Level_dB': 76,\n",
        "    'Duration_Minutes': 6\n",
        "}\n",
        "\n",
        "# Convert the sample data to a DataFrame\n",
        "sample_df = pd.DataFrame([sample_data])\n",
        "\n",
        "# Preprocess the sample data using the loaded preprocessor\n",
        "sample_df_processed = loaded_preprocessor.transform(sample_df)\n",
        "\n",
        "# Make prediction\n",
        "prediction = loaded_model.predict(sample_df_processed)[0]\n",
        "\n",
        "# The prediction will be a probability between 0 and 1.\n",
        "# You can interpret it as the likelihood of hearing damage risk.\n",
        "print(prediction)\n"
      ],
      "metadata": {
        "colab": {
          "base_uri": "https://localhost:8080/"
        },
        "id": "Urd0QqPfv78S",
        "outputId": "935d1289-46d2-437f-a4eb-a61f4452b04c"
      },
      "execution_count": null,
      "outputs": [
        {
          "output_type": "stream",
          "name": "stderr",
          "text": [
            "WARNING:tensorflow:5 out of the last 11 calls to <function Model.make_predict_function.<locals>.predict_function at 0x7cc5d0eff760> triggered tf.function retracing. Tracing is expensive and the excessive number of tracings could be due to (1) creating @tf.function repeatedly in a loop, (2) passing tensors with different shapes, (3) passing Python objects instead of tensors. For (1), please define your @tf.function outside of the loop. For (2), @tf.function has reduce_retracing=True option that can avoid unnecessary retracing. For (3), please refer to https://www.tensorflow.org/guide/function#controlling_retracing and https://www.tensorflow.org/api_docs/python/tf/function for  more details.\n"
          ]
        },
        {
          "output_type": "stream",
          "name": "stdout",
          "text": [
            "1/1 [==============================] - 0s 64ms/step\n",
            "[5.537884e-23]\n"
          ]
        }
      ]
    },
    {
      "cell_type": "code",
      "source": [
        "import pandas as pd\n",
        "sample_data = {\n",
        "    'Location_Type': 'Indoor',\n",
        "    'Environment': 'Traffic',\n",
        "    'Age': '30',\n",
        "    'Gender': 'Male',\n",
        "    'Hearing_Protection_Used': 'Yes',\n",
        "    'Hearing_Sensitivity': 'Normal',\n",
        "    'Health_Issues': 'Healthy',\n",
        "    'Noise_Level_dB': 94,\n",
        "    'Duration_Minutes': 480\n",
        "}\n",
        "\n",
        "# Convert the sample data to a DataFrame\n",
        "sample_df = pd.DataFrame([sample_data])\n",
        "\n",
        "# Preprocess the sample data\n",
        "sample_transformed = preprocessor.transform(sample_df)\n",
        "\n",
        "# Make a prediction\n",
        "prediction = model.predict(sample_transformed)[0]\n",
        "\n",
        "print(prediction[0])\n"
      ],
      "metadata": {
        "colab": {
          "base_uri": "https://localhost:8080/"
        },
        "id": "60e2rq9h012I",
        "outputId": "a2db118c-1be2-4e3d-b85d-c129674487a9"
      },
      "execution_count": null,
      "outputs": [
        {
          "output_type": "stream",
          "name": "stdout",
          "text": [
            "1/1 [==============================] - 0s 25ms/step\n",
            "2.6889239e-27\n"
          ]
        }
      ]
    }
  ],
  "metadata": {
    "colab": {
      "provenance": [],
      "gpuType": "T4"
    },
    "kernelspec": {
      "display_name": "Python 3",
      "name": "python3"
    },
    "language_info": {
      "name": "python"
    }
  },
  "nbformat": 4,
  "nbformat_minor": 0
}